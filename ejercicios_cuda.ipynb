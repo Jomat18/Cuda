{
  "nbformat": 4,
  "nbformat_minor": 0,
  "metadata": {
    "colab": {
      "name": "ejercicios_cuda.ipynb",
      "provenance": []
    },
    "kernelspec": {
      "name": "python3",
      "display_name": "Python 3"
    },
    "accelerator": "GPU"
  },
  "cells": [
    {
      "cell_type": "code",
      "metadata": {
        "id": "nB9k_PtNADnp",
        "colab_type": "code",
        "colab": {}
      },
      "source": [
        "!apt-get --purge remove cuda nvidia* libnvidia-*\n",
        "!dpkg -l | grep cuda- | awk '{print $2}' | xargs -n1 dpkg --purge\n",
        "!apt-get remove cuda-*\n",
        "!apt autoremove\n",
        "!apt-get update"
      ],
      "execution_count": 0,
      "outputs": []
    },
    {
      "cell_type": "code",
      "metadata": {
        "id": "iwYUGJr0CMqh",
        "colab_type": "code",
        "colab": {}
      },
      "source": [
        "!wget https://developer.nvidia.com/compute/cuda/9.2/Prod/local_installers/cuda-repo-ubuntu1604-9-2-local_9.2.88-1_amd64 -O cuda-repo-ubuntu1604-9-2-local_9.2.88-1_amd64.deb\n",
        "!dpkg -i cuda-repo-ubuntu1604-9-2-local_9.2.88-1_amd64.deb\n",
        "!apt-key add /var/cuda-repo-9-2-local/7fa2af80.pub\n",
        "!apt-get update\n",
        "!apt-get install cuda-9.2"
      ],
      "execution_count": 0,
      "outputs": []
    },
    {
      "cell_type": "code",
      "metadata": {
        "id": "RKgX0CzpDZND",
        "colab_type": "code",
        "outputId": "c7eed529-55e8-46a8-cbd3-110e7657d287",
        "colab": {
          "base_uri": "https://localhost:8080/",
          "height": 85
        }
      },
      "source": [
        "!nvcc --version"
      ],
      "execution_count": 6,
      "outputs": [
        {
          "output_type": "stream",
          "text": [
            "nvcc: NVIDIA (R) Cuda compiler driver\n",
            "Copyright (c) 2005-2018 NVIDIA Corporation\n",
            "Built on Wed_Apr_11_23:16:29_CDT_2018\n",
            "Cuda compilation tools, release 9.2, V9.2.88\n"
          ],
          "name": "stdout"
        }
      ]
    },
    {
      "cell_type": "code",
      "metadata": {
        "id": "NVZfAq9SGc6E",
        "colab_type": "code",
        "colab": {}
      },
      "source": [
        "import os\n",
        "os.environ['PATH'] += ':/usr/local/cuda/bin'"
      ],
      "execution_count": 0,
      "outputs": []
    },
    {
      "cell_type": "code",
      "metadata": {
        "id": "lmzIEru0HV20",
        "colab_type": "code",
        "outputId": "d1da40d3-e527-4688-e066-d2388f679e81",
        "colab": {
          "base_uri": "https://localhost:8080/",
          "height": 85
        }
      },
      "source": [
        "!nvcc --version"
      ],
      "execution_count": 8,
      "outputs": [
        {
          "output_type": "stream",
          "text": [
            "nvcc: NVIDIA (R) Cuda compiler driver\n",
            "Copyright (c) 2005-2018 NVIDIA Corporation\n",
            "Built on Wed_Apr_11_23:16:29_CDT_2018\n",
            "Cuda compilation tools, release 9.2, V9.2.88\n"
          ],
          "name": "stdout"
        }
      ]
    },
    {
      "cell_type": "code",
      "metadata": {
        "id": "mHntAX8dDrVU",
        "colab_type": "code",
        "outputId": "e4dafbe7-15e2-4bbf-f73c-a0ff2c0005d8",
        "colab": {
          "base_uri": "https://localhost:8080/",
          "height": 34
        }
      },
      "source": [
        "%%file mul_global.cu\n",
        "#include <stdio.h>\n",
        "#include <stdlib.h>\n",
        "#include <math.h>\n",
        "\n",
        "#define BLOCK_SIZE 16\n",
        "\n",
        "__global__ void MatrixMulKernel(float *M, float *N, float *P, int Width)\n",
        "{ \n",
        "    int Row = blockIdx.y * blockDim.y + threadIdx.y; \n",
        "    int Col = blockIdx.x * blockDim.x + threadIdx.x;\n",
        "    \n",
        "    if( Col < Width && Row < Width) \n",
        "    {\n",
        "    \tfloat Pvalue = 0;\n",
        "        for(int k = 0; k < Width; ++k) \n",
        "        {\n",
        "            Pvalue += M[Row * Width + k] * N[k * Width + Col];\n",
        "        }\n",
        "        P[Row * Width + Col] = Pvalue;\n",
        "    }\n",
        "} \n",
        "\n",
        "\n",
        "void cpu_matrix_mult(float *M, float *N, float *P, int Width) {\n",
        "    for (int i = 0; i < Width; ++i) \n",
        "    {\n",
        "        for (int j = 0; j < Width; ++j) \n",
        "        {\n",
        "            int tmp = 0.0;\n",
        "            for(int k = 0; k < Width; ++k) \n",
        "            {\n",
        "                tmp += M[i * Width + k] * N[k * Width + j];\n",
        "            }\n",
        "            P[i * Width + j] = tmp;\n",
        "        }\n",
        "    }\n",
        "}\n",
        "\n",
        "\n",
        "int main(int argc, char* argv[])\n",
        "{\n",
        "    int Width;\n",
        "\n",
        "    Width = strtol(argv[1], NULL, 10);\n",
        "\t\n",
        "    srand(3333);\n",
        "\n",
        "    float *h_a=0, *h_b=0, *h_c=0, *h_cc=0;\n",
        "    cudaMallocHost((void **) &h_a, sizeof(float)*Width*Width);\n",
        "    cudaMallocHost((void **) &h_b, sizeof(float)*Width*Width);\n",
        "    cudaMallocHost((void **) &h_c, sizeof(float)*Width*Width);\n",
        "    cudaMallocHost((void **) &h_cc, sizeof(float)*Width*Width);\t    \n",
        "\n",
        "    if(h_a==0 || h_b==0 || h_c==0 || h_cc==0)\n",
        "    {\n",
        "\tprintf(\"No asignacion de memoria\\n\");\n",
        "\treturn 1;\n",
        "    }\n",
        "    \n",
        "    for (int i = 0; i < Width; ++i) {\n",
        "        for (int j = 0; j < Width; ++j) {\n",
        "            h_a[i * Width + j] = rand()%1024;\n",
        "        }\n",
        "    }\n",
        "\n",
        "    for (int i = 0; i < Width; ++i) {\n",
        "        for (int j = 0; j < Width; ++j) {\n",
        "            h_b[i * Width + j] = rand()%1024;\n",
        "        }\n",
        "    }\n",
        "\n",
        "    float gpu_time_ms;\n",
        "\n",
        "    cudaEvent_t start, stop;\n",
        "    cudaEventCreate(&start);\n",
        "    cudaEventCreate(&stop);\n",
        "\n",
        "    cudaEventRecord(start, 0);\n",
        "    float *d_a=0, *d_b=0, *d_c=0;\n",
        "    cudaMalloc((void **) &d_a, sizeof(float)*Width*Width);\n",
        "    cudaMalloc((void **) &d_b, sizeof(float)*Width*Width);\n",
        "    cudaMalloc((void **) &d_c, sizeof(float)*Width*Width);\n",
        "\n",
        "    if(d_a==0 || d_b==0 || d_c==0)\n",
        "    {\n",
        "  \t\tprintf(\"No asignacion Gpu\\n\");\n",
        "\t\treturn 1;\n",
        "    }\n",
        "\n",
        "    cudaMemcpy(d_a, h_a, sizeof(float)*Width*Width, cudaMemcpyHostToDevice);\n",
        "    cudaMemcpy(d_b, h_b, sizeof(float)*Width*Width, cudaMemcpyHostToDevice);\n",
        "\n",
        "    dim3 dimBlock(BLOCK_SIZE, BLOCK_SIZE); \n",
        "    dim3 dimGrid((int)ceil(float(Width)/dimBlock.x), (int)ceil(float(Width)/dimBlock.y));\n",
        "\n",
        "    MatrixMulKernel<<<dimGrid, dimBlock>>>(d_a, d_b, d_c, Width);\n",
        "\n",
        "    cudaMemcpy(h_c, d_c, sizeof(int)*Width*Width, cudaMemcpyDeviceToHost);\n",
        "\n",
        "    cudaThreadSynchronize();\n",
        "    cudaEventRecord(stop, 0);\n",
        "    cudaEventSynchronize(stop);\n",
        "\n",
        "    cudaEventElapsedTime(&gpu_time_ms, start, stop);\n",
        "    printf(\"%f\\n\", gpu_time_ms);\n",
        "\n",
        "    cudaFree(d_a);\n",
        "    cudaFree(d_b);\n",
        "    cudaFree(d_c);\n",
        "    cudaFreeHost(h_a);\n",
        "    cudaFreeHost(h_b);\n",
        "    cudaFreeHost(h_c);\n",
        "    cudaFreeHost(h_cc);\n",
        "\n",
        "    cudaEventDestroy(start);\n",
        "    cudaEventDestroy(stop);\n",
        "    return 0;\n",
        "}\n"
      ],
      "execution_count": 10,
      "outputs": [
        {
          "output_type": "stream",
          "text": [
            "Overwriting mul_global.cu\n"
          ],
          "name": "stdout"
        }
      ]
    },
    {
      "cell_type": "code",
      "metadata": {
        "id": "yOGfubZ4cNys",
        "colab_type": "code",
        "outputId": "0655af61-d0ff-41be-b833-8faf5b9ff4bb",
        "colab": {
          "base_uri": "https://localhost:8080/",
          "height": 34
        }
      },
      "source": [
        "%%file mul_compartida.cu\n",
        "#include <stdio.h>\n",
        "#include <stdlib.h>\n",
        "#include <math.h>\n",
        "\n",
        "#define TILE_WIDTH 16\n",
        "\n",
        "__global__ void Matrix_Mul_Kernel(float* d_M, float* d_N, float* d_P, int Width)\n",
        "{\n",
        "\t__shared__ float Mds[TILE_WIDTH][TILE_WIDTH];\n",
        "\t__shared__ float Nds[TILE_WIDTH][TILE_WIDTH];\n",
        "\n",
        "\tint bx = blockIdx.x;\n",
        "\tint by = blockIdx.y;\n",
        "\tint tx = threadIdx.x;\n",
        "\tint ty = threadIdx.y;\n",
        "\n",
        "\tint Row = by * TILE_WIDTH + ty;\n",
        "\tint Col = bx * TILE_WIDTH + tx;\n",
        "\n",
        "\tfloat Pvalue = 0;\n",
        "\tfor(int ph = 0; ph < Width/TILE_WIDTH; ++ph)\n",
        "\t{\n",
        "\n",
        "\t\tMds[ty][tx] = d_M[Row * Width + ph * TILE_WIDTH + tx];\n",
        "\t\tNds[ty][tx] = d_N[(ph * TILE_WIDTH + ty) * Width + Col];\n",
        "\t\t__syncthreads(); //Sincroniza todos los hilos en un bloque\n",
        "\t\t //Asegúrarse de que todos los datos estén cargados.\n",
        "\t\t\t\n",
        "\t\tfor (int k = 0; k < TILE_WIDTH; ++k){\t\t\n",
        "\n",
        "\t\t\tPvalue += Mds[ty][k] * Nds[k][tx];\n",
        "\t\t}\n",
        "\t\t__syncthreads();//Evita los peligros de la memoria.\n",
        "\t\t//Asegurarse de que los calculos se realizen antes de la\n",
        "\t\t//siguiente fase\n",
        "\t}\t\n",
        "\n",
        "\td_P[Row * Width + Col] = Pvalue;\n",
        "}\n",
        "\n",
        "\n",
        "void cpu_matrix_mult(float *M, float *N, float *P, int Width) {\n",
        "    for (int i = 0; i < Width; ++i) \n",
        "    {\n",
        "        for (int j = 0; j < Width; ++j) \n",
        "        {\n",
        "            int tmp = 0.0;\n",
        "            for(int k = 0; k < Width; ++k) \n",
        "            {\n",
        "                tmp += M[i * Width + k] * N[k * Width + j];\n",
        "            }\n",
        "            P[i * Width + j] = tmp;\n",
        "        }\n",
        "    }\n",
        "}\n",
        "\n",
        "\n",
        "int main(int argc, char* argv[])\n",
        "{\n",
        "    int Width;\n",
        "\n",
        "    Width = strtol(argv[1], NULL, 10);\n",
        "\n",
        "    srand(3333);\n",
        "\n",
        "    float *h_a=0, *h_b=0, *h_c=0, *h_cc=0;\n",
        "    cudaMallocHost((void **) &h_a, sizeof(float)*Width*Width);\n",
        "    cudaMallocHost((void **) &h_b, sizeof(float)*Width*Width);\n",
        "    cudaMallocHost((void **) &h_c, sizeof(float)*Width*Width);\n",
        "    cudaMallocHost((void **) &h_cc, sizeof(float)*Width*Width);\t    \n",
        "    if(h_a==0 || h_b==0 || h_c==0 || h_cc==0)\n",
        "    {\n",
        "\tprintf(\"No asignacion de memoria\\n\");\n",
        "\treturn 1;\n",
        "    }\n",
        "    \n",
        "    for (int i = 0; i < Width; ++i) {\n",
        "        for (int j = 0; j < Width; ++j) {\n",
        "            h_a[i * Width + j] = rand()%1024;\n",
        "        }\n",
        "    }\n",
        "\n",
        "    for (int i = 0; i < Width; ++i) {\n",
        "        for (int j = 0; j < Width; ++j) {\n",
        "            h_b[i * Width + j] = rand()%1024;\n",
        "        }\n",
        "    }\n",
        "\n",
        "    float gpu_time_ms;\n",
        "\n",
        "    cudaEvent_t start, stop;\n",
        "    cudaEventCreate(&start);\n",
        "    cudaEventCreate(&stop);\n",
        "\n",
        "    cudaEventRecord(start, 0);\n",
        "    float *d_a=0, *d_b=0, *d_c=0;\n",
        "    cudaMalloc((void **) &d_a, sizeof(float)*Width*Width);\n",
        "    cudaMalloc((void **) &d_b, sizeof(float)*Width*Width);\n",
        "    cudaMalloc((void **) &d_c, sizeof(float)*Width*Width);\n",
        "\n",
        "    if(d_a==0 || d_b==0 || d_c==0)\n",
        "    {\n",
        "  \tprintf(\"No asignacion Gpu\\n\");\n",
        "\treturn 1;\n",
        "    }\n",
        "\n",
        "    cudaMemcpy(d_a, h_a, sizeof(float)*Width*Width, cudaMemcpyHostToDevice);\n",
        "    cudaMemcpy(d_b, h_b, sizeof(float)*Width*Width, cudaMemcpyHostToDevice);\n",
        "\n",
        "    dim3 dimBlock(TILE_WIDTH,TILE_WIDTH);\n",
        "    dim3 dimGrid((int)ceil(float(Width)/dimBlock.x), (int)ceil(float(Width)/dimBlock.y));\n",
        "\n",
        "    Matrix_Mul_Kernel<<<dimGrid, dimBlock>>>(d_a, d_b, d_c, Width);\n",
        "\n",
        "    cudaMemcpy(h_c, d_c, sizeof(float)*Width*Width, cudaMemcpyDeviceToHost);\n",
        "\n",
        "    cudaThreadSynchronize();\n",
        "    cudaEventRecord(stop, 0);\n",
        "    cudaEventSynchronize(stop);\n",
        "\n",
        "    cudaEventElapsedTime(&gpu_time_ms, start, stop);\n",
        "    printf(\"%f\\n\", gpu_time_ms);\n",
        "\n",
        "\n",
        "    cudaFree(d_a);\n",
        "    cudaFree(d_b);\n",
        "    cudaFree(d_c);\n",
        "    cudaFreeHost(h_a);\n",
        "    cudaFreeHost(h_b);\n",
        "    cudaFreeHost(h_c);\n",
        "    cudaFreeHost(h_cc);\n",
        "\n",
        "    cudaEventDestroy(start);\n",
        "    cudaEventDestroy(stop);\n",
        "    return 0;\n",
        "}\n"
      ],
      "execution_count": 11,
      "outputs": [
        {
          "output_type": "stream",
          "text": [
            "Writing mul_compartida.cu\n"
          ],
          "name": "stdout"
        }
      ]
    },
    {
      "cell_type": "code",
      "metadata": {
        "id": "T07AIkoTHl8j",
        "colab_type": "code",
        "outputId": "184ce473-1de5-4022-d0ae-342ce8954b41",
        "colab": {
          "base_uri": "https://localhost:8080/",
          "height": 34
        }
      },
      "source": [
        "!nvcc mul_global.cu -o m_global\n",
        "!./m_global 100"
      ],
      "execution_count": 12,
      "outputs": [
        {
          "output_type": "stream",
          "text": [
            "0.332992\n"
          ],
          "name": "stdout"
        }
      ]
    },
    {
      "cell_type": "code",
      "metadata": {
        "id": "XWoLr160XsOG",
        "colab_type": "code",
        "outputId": "c926777c-4bc0-4e5e-f6c0-fdf0fae987e5",
        "colab": {
          "base_uri": "https://localhost:8080/",
          "height": 34
        }
      },
      "source": [
        "%%writefile grafico.sh\n",
        "\n",
        "TIME_GLOBAL=0\n",
        "TIME_SHARED=0\n",
        "LINES=1024\n",
        "MAXLINES=4096\n",
        "INCREMENT=256\n",
        "\n",
        "nvcc mul_global.cu -o ./m_global\n",
        "nvcc mul_compartida.cu -o ./m_shared\n",
        "\n",
        "if [ -f ./tiempos.csv ]; then\n",
        "    rm ./tiempos.csv\n",
        "fi\n",
        "\n",
        "echo 'size_matrix;tiempo_global;tiempo_compartido' >> tiempos.csv\n",
        "\n",
        "awk 'BEGIN { printf \"%-7s %-20s %-20s\\n\", \"LINES\", \"TIME_GLOBAL\", \"TIME_SHARED\"}'\n",
        "\n",
        "while [  $LINES -lt $MAXLINES ]; do\n",
        "\n",
        "    TIME_GLOBAL=\"$(./m_global $LINES)\"\n",
        "    TIME_SHARED=\"$(./m_shared $LINES)\"\n",
        "\n",
        "    awk 'BEGIN { printf \"%-7d %-20f %-20f\\n\", '$LINES', '$TIME_GLOBAL', '$TIME_SHARED'; exit; }'\n",
        "\n",
        "    echo $LINES';'$TIME_GLOBAL';'$TIME_SHARED >> tiempos.csv\n",
        "\n",
        "    let LINES=LINES+INCREMENT\n",
        "done    \n"
      ],
      "execution_count": 13,
      "outputs": [
        {
          "output_type": "stream",
          "text": [
            "Overwriting grafico.sh\n"
          ],
          "name": "stdout"
        }
      ]
    },
    {
      "cell_type": "code",
      "metadata": {
        "id": "VuY1rsKVbBAM",
        "colab_type": "code",
        "outputId": "04158dad-b66b-45b7-8d58-917a1c0cf2d8",
        "colab": {
          "base_uri": "https://localhost:8080/",
          "height": 238
        }
      },
      "source": [
        "%%shell \n",
        "bash grafico.sh"
      ],
      "execution_count": 14,
      "outputs": [
        {
          "output_type": "stream",
          "text": [
            "LINES   TIME_GLOBAL          TIME_SHARED         \n",
            "1024    6.116864             2.705920            \n",
            "1280    12.988864            4.573024            \n",
            "1536    22.007551            7.028576            \n",
            "1792    35.580158            10.250368           \n",
            "2048    53.915649            14.019104           \n",
            "2304    76.760735            19.222113           \n",
            "2560    107.172867           23.695553           \n",
            "2816    136.913727           30.450785           \n",
            "3072    180.340424           38.154846           \n",
            "3328    230.858810           47.224159           \n",
            "3584    294.548523           58.353279           \n",
            "3840    364.724091           69.820419           \n"
          ],
          "name": "stdout"
        },
        {
          "output_type": "execute_result",
          "data": {
            "text/plain": [
              ""
            ]
          },
          "metadata": {
            "tags": []
          },
          "execution_count": 14
        }
      ]
    },
    {
      "cell_type": "code",
      "metadata": {
        "id": "ayJqbPz4WFLV",
        "colab_type": "code",
        "outputId": "068f3643-d78d-42de-9f3d-6608eebac39e",
        "colab": {
          "base_uri": "https://localhost:8080/",
          "height": 295
        }
      },
      "source": [
        "\n",
        "import numpy as np \n",
        "import matplotlib.pyplot as plt \n",
        "\n",
        "size_matrix=[]\n",
        "m_global=[]\n",
        "m_shared=[]\n",
        "\n",
        "f = open('tiempos.csv', \"r\")\n",
        "next(f)  #salto la cabecera\n",
        "for linea in f: \n",
        "\tif len(linea.strip())!=0:\n",
        "\t\tlinea=linea.rstrip('\\n')  #linea\n",
        "\t\tdato=linea.split(';')\t#lista de la linea\n",
        "\t\tsize_matrix.append(int(dato[0]))\n",
        "\t\tm_global.append(float(dato[1])) \n",
        "\t\tm_shared.append(float(dato[2]))\n",
        "\t\t\n",
        "\t\n",
        "f.close()\n",
        "\n",
        "'''\n",
        "x = [100, 200, 300, 400, 500, 600, 700]\n",
        "y1 = [0.436288, 0.900864, 1.802080, 2.902880, 5.539296, 8.498368, 13.178368] \n",
        "y2 = [0.559168, 0.665888, 1.138272, 1.811584, 2.642496, 3.699712, 5.389696] \n",
        "'''\n",
        "\n",
        "plt.title(\"Memoria Global - Memoria Compartida\") \n",
        "plt.plot(size_matrix, m_global,'-b', label='GPU Global memory', marker='o', linestyle='--', fillstyle='none') \n",
        "plt.plot(size_matrix, m_shared,'-r', label='GPU Shared memory', marker='o', linestyle='--', fillstyle='none') \n",
        "plt.legend(loc='upper left')\n",
        "plt.xlabel('tamaño de la matriz')\n",
        "plt.ylabel('tiempo (milisegundos)')\n",
        "plt.savefig('comparacion.png')\n",
        "plt.show() \n"
      ],
      "execution_count": 16,
      "outputs": [
        {
          "output_type": "display_data",
          "data": {
            "image/png": "[encoded data removed]",
            "text/plain": [
              "<Figure size 432x288 with 1 Axes>"
            ]
          },
          "metadata": {
            "tags": []
          }
        }
      ]
    }
  ]
}